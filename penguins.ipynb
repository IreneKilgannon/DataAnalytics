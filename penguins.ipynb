{
 "cells": [
  {
   "cell_type": "markdown",
   "metadata": {},
   "source": [
    "# Analysis of the Palmer Penguins Data Set\n",
    "***\n",
    "\n",
    "Author: Irene Kilgannon\n",
    "\n",
    "This notebook contains my analysis of the palmer penguins data set. The palmer penguins data set contains data measurements for three different penguin species, the Chinstrap, Gentoo and Adélie penguin. The data was collected between 2007 - 2009 by Dr. Kristen Gorman with the [Palmer Station Long Term Ecological Research Program](https://lternet.edu/site/palmer-antarctica-lter/) on three islands in the Palmer Archipelago, Antarctica. The Palmer archipelago is named after [Nathaniel Palmer](https://en.wikipedia.org/wiki/Nathaniel_Palmer), an American explorer who explored this part of the Antartica in 1820.\n",
    "\n",
    "![The Palmer Penguins. Artwork by @allison_horst](https://sebastiancallh.github.io/ox-hugo/palmer-penguins.png)\n",
    "\n",
    "_The Palmer Penguins, artwork by @allison_horst_\n",
    "\n",
    "\n",
    "\n",
    "\n",
    "\n",
    "\n",
    "According to [AllisonHorst.github.io](https://github.com/allisonhorst/palmerpenguins/blob/main/README.md) \"the goal of the palmerpenguins is to provide a great dataset for data exploration and visualization, as an alternative to iris\". In this [article](https://www.researchgate.net/profile/Kristen-B-Gorman/publication/362573623_Palmer_Archipelago_Penguins_Data_in_the_palmerpenguins_R_Package_-_An_Alternative_to_Anderson's_Irises/links/63100bec1ddd44702125ddbc/Palmer-Archipelago-Penguins-Data-in-the-palmerpenguins-R-Package-An-Alternative-to-Andersons-Irises.pdf) Horst et al. discuss the merits of using their palmer penguins data set over Fisher's iris data set. One of the key points they make is that the palmer penguins data set is a more realistic data set with missing values. The iris data set has no missing values so students using the iris data set are unfortunately not learning one of the key skills in data analysis - cleaning and processing the data.\n",
    "\n",
    "The data set is used by students and educators so students can learn how to:\n",
    "* clean and preprocess data\n",
    "* perform exploratory data analysis\n",
    "* visualise data\n",
    "* perform comparative analysis and clustering of data\n",
    "* machine learning by [classification](https://medium.com/@cleonard_85587/classification-penguins-species-on-python-b494fd92e686) and regression. \n",
    "\n",
    "A number of different programming languages are widely used to analyse the data. These are [python](https://www.youtube.com/watch?v=uiYgZomY-v4&t=2970s), [R](https://www.youtube.com/watch?v=KxfC_gzTBVg) and [Julia](https://www.youtube.com/watch?v=lflrmExE3gY&t=0s). I have also found some visualisation of the data set using [tableau](https://public.tableau.com/app/profile/kushie/viz/MOMWeek28-ThePalmerPenguins/PalmerPenguins). Tableau is not a programming language but is a data visualisation tool that does not involve any coding. This project will be written in python. "
   ]
  },
  {
   "cell_type": "markdown",
   "metadata": {},
   "source": [
    "# Table of Contents\n",
    "\n",
    "The tasks:\n",
    "    import the data set (https://vscode.dev/github/IreneKilgannon/DataAnalytics/blob/main/penguins.ipynb#C6:L6)\n",
    "    give an overview of the data set and the variables it contains (https://vscode.dev/github/IreneKilgannon/DataAnalytics/blob/main/penguins.ipynb#C9:L1)\n",
    "    suggest the types of variables in the data set \n",
    "    create a bar chart\n",
    "    create a histogram\n",
    "    \n",
    "To DO list:\n",
    "\n",
    "Show research about plots etc. Add comments about why i plotted them the way I did. Blurb about the research. Don't just link\n",
    "\n",
    "comment on the results of the plots. compare with other plots.\n",
    "\n",
    "\n"
   ]
  },
  {
   "cell_type": "markdown",
   "metadata": {},
   "source": [
    "## The Tasks"
   ]
  },
  {
   "cell_type": "markdown",
   "metadata": {},
   "source": [
    "### Import Modules\n",
    "***\n",
    "\n",
    "Four modules are required for this analysis:\n",
    "* pandas - for manipulating data and for performing data analysis\n",
    "* numpy - performs a wide variety of mathematical calculations on arrays\n",
    "* matplotlib.pyplot - to create plots\n",
    "* seaborn - to create plots"
   ]
  },
  {
   "cell_type": "code",
   "execution_count": 1,
   "metadata": {},
   "outputs": [],
   "source": [
    "# Import pandas\n",
    "import pandas as pd\n",
    "\n",
    "# Import numpy\n",
    "import numpy as np\n",
    "\n",
    "# Import matplotlib.pylab\n",
    "import matplotlib.pylab as plt\n",
    "\n",
    "# Import seaborn\n",
    "import seaborn as sns"
   ]
  },
  {
   "cell_type": "markdown",
   "metadata": {},
   "source": [
    "### Import the data set\n",
    "***\n",
    "\n",
    "The data set was imported as a csv file from [Seaborn Data](https://raw.githubusercontent.com/mwaskom/seaborn-data/master/penguins.csv). The original raw data set is available on Alison Horst's [GitHub](https://github.com/allisonhorst/palmerpenguins/blob/main/inst/extdata/penguins_raw.csv).\n",
    "\n",
    "The data set from seaborn has been processed to remove extraneous information such as any clutch size, blood isotope ratios and other additional information that is not required for this analysis."
   ]
  },
  {
   "cell_type": "code",
   "execution_count": 2,
   "metadata": {},
   "outputs": [],
   "source": [
    "# Load the penguins data set\n",
    "df = pd.read_csv(\"https://raw.githubusercontent.com/mwaskom/seaborn-data/master/penguins.csv\")"
   ]
  },
  {
   "cell_type": "code",
   "execution_count": 3,
   "metadata": {},
   "outputs": [
    {
     "data": {
      "text/html": [
       "<div>\n",
       "<style scoped>\n",
       "    .dataframe tbody tr th:only-of-type {\n",
       "        vertical-align: middle;\n",
       "    }\n",
       "\n",
       "    .dataframe tbody tr th {\n",
       "        vertical-align: top;\n",
       "    }\n",
       "\n",
       "    .dataframe thead th {\n",
       "        text-align: right;\n",
       "    }\n",
       "</style>\n",
       "<table border=\"1\" class=\"dataframe\">\n",
       "  <thead>\n",
       "    <tr style=\"text-align: right;\">\n",
       "      <th></th>\n",
       "      <th>species</th>\n",
       "      <th>island</th>\n",
       "      <th>bill_length_mm</th>\n",
       "      <th>bill_depth_mm</th>\n",
       "      <th>flipper_length_mm</th>\n",
       "      <th>body_mass_g</th>\n",
       "      <th>sex</th>\n",
       "    </tr>\n",
       "  </thead>\n",
       "  <tbody>\n",
       "    <tr>\n",
       "      <th>0</th>\n",
       "      <td>Adelie</td>\n",
       "      <td>Torgersen</td>\n",
       "      <td>39.1</td>\n",
       "      <td>18.7</td>\n",
       "      <td>181.0</td>\n",
       "      <td>3750.0</td>\n",
       "      <td>MALE</td>\n",
       "    </tr>\n",
       "    <tr>\n",
       "      <th>1</th>\n",
       "      <td>Adelie</td>\n",
       "      <td>Torgersen</td>\n",
       "      <td>39.5</td>\n",
       "      <td>17.4</td>\n",
       "      <td>186.0</td>\n",
       "      <td>3800.0</td>\n",
       "      <td>FEMALE</td>\n",
       "    </tr>\n",
       "    <tr>\n",
       "      <th>2</th>\n",
       "      <td>Adelie</td>\n",
       "      <td>Torgersen</td>\n",
       "      <td>40.3</td>\n",
       "      <td>18.0</td>\n",
       "      <td>195.0</td>\n",
       "      <td>3250.0</td>\n",
       "      <td>FEMALE</td>\n",
       "    </tr>\n",
       "    <tr>\n",
       "      <th>3</th>\n",
       "      <td>Adelie</td>\n",
       "      <td>Torgersen</td>\n",
       "      <td>NaN</td>\n",
       "      <td>NaN</td>\n",
       "      <td>NaN</td>\n",
       "      <td>NaN</td>\n",
       "      <td>NaN</td>\n",
       "    </tr>\n",
       "    <tr>\n",
       "      <th>4</th>\n",
       "      <td>Adelie</td>\n",
       "      <td>Torgersen</td>\n",
       "      <td>36.7</td>\n",
       "      <td>19.3</td>\n",
       "      <td>193.0</td>\n",
       "      <td>3450.0</td>\n",
       "      <td>FEMALE</td>\n",
       "    </tr>\n",
       "    <tr>\n",
       "      <th>...</th>\n",
       "      <td>...</td>\n",
       "      <td>...</td>\n",
       "      <td>...</td>\n",
       "      <td>...</td>\n",
       "      <td>...</td>\n",
       "      <td>...</td>\n",
       "      <td>...</td>\n",
       "    </tr>\n",
       "    <tr>\n",
       "      <th>339</th>\n",
       "      <td>Gentoo</td>\n",
       "      <td>Biscoe</td>\n",
       "      <td>NaN</td>\n",
       "      <td>NaN</td>\n",
       "      <td>NaN</td>\n",
       "      <td>NaN</td>\n",
       "      <td>NaN</td>\n",
       "    </tr>\n",
       "    <tr>\n",
       "      <th>340</th>\n",
       "      <td>Gentoo</td>\n",
       "      <td>Biscoe</td>\n",
       "      <td>46.8</td>\n",
       "      <td>14.3</td>\n",
       "      <td>215.0</td>\n",
       "      <td>4850.0</td>\n",
       "      <td>FEMALE</td>\n",
       "    </tr>\n",
       "    <tr>\n",
       "      <th>341</th>\n",
       "      <td>Gentoo</td>\n",
       "      <td>Biscoe</td>\n",
       "      <td>50.4</td>\n",
       "      <td>15.7</td>\n",
       "      <td>222.0</td>\n",
       "      <td>5750.0</td>\n",
       "      <td>MALE</td>\n",
       "    </tr>\n",
       "    <tr>\n",
       "      <th>342</th>\n",
       "      <td>Gentoo</td>\n",
       "      <td>Biscoe</td>\n",
       "      <td>45.2</td>\n",
       "      <td>14.8</td>\n",
       "      <td>212.0</td>\n",
       "      <td>5200.0</td>\n",
       "      <td>FEMALE</td>\n",
       "    </tr>\n",
       "    <tr>\n",
       "      <th>343</th>\n",
       "      <td>Gentoo</td>\n",
       "      <td>Biscoe</td>\n",
       "      <td>49.9</td>\n",
       "      <td>16.1</td>\n",
       "      <td>213.0</td>\n",
       "      <td>5400.0</td>\n",
       "      <td>MALE</td>\n",
       "    </tr>\n",
       "  </tbody>\n",
       "</table>\n",
       "<p>344 rows × 7 columns</p>\n",
       "</div>"
      ],
      "text/plain": [
       "    species     island  bill_length_mm  bill_depth_mm  flipper_length_mm  \\\n",
       "0    Adelie  Torgersen            39.1           18.7              181.0   \n",
       "1    Adelie  Torgersen            39.5           17.4              186.0   \n",
       "2    Adelie  Torgersen            40.3           18.0              195.0   \n",
       "3    Adelie  Torgersen             NaN            NaN                NaN   \n",
       "4    Adelie  Torgersen            36.7           19.3              193.0   \n",
       "..      ...        ...             ...            ...                ...   \n",
       "339  Gentoo     Biscoe             NaN            NaN                NaN   \n",
       "340  Gentoo     Biscoe            46.8           14.3              215.0   \n",
       "341  Gentoo     Biscoe            50.4           15.7              222.0   \n",
       "342  Gentoo     Biscoe            45.2           14.8              212.0   \n",
       "343  Gentoo     Biscoe            49.9           16.1              213.0   \n",
       "\n",
       "     body_mass_g     sex  \n",
       "0         3750.0    MALE  \n",
       "1         3800.0  FEMALE  \n",
       "2         3250.0  FEMALE  \n",
       "3            NaN     NaN  \n",
       "4         3450.0  FEMALE  \n",
       "..           ...     ...  \n",
       "339          NaN     NaN  \n",
       "340       4850.0  FEMALE  \n",
       "341       5750.0    MALE  \n",
       "342       5200.0  FEMALE  \n",
       "343       5400.0    MALE  \n",
       "\n",
       "[344 rows x 7 columns]"
      ]
     },
     "execution_count": 3,
     "metadata": {},
     "output_type": "execute_result"
    }
   ],
   "source": [
    "# Have a look. Check that the file has loaded correctly.\n",
    "df"
   ]
  },
  {
   "cell_type": "markdown",
   "metadata": {},
   "source": [
    "### Overview of the data set and the variables it contains.\n",
    "***"
   ]
  },
  {
   "cell_type": "code",
   "execution_count": 4,
   "metadata": {},
   "outputs": [
    {
     "data": {
      "text/html": [
       "<div>\n",
       "<style scoped>\n",
       "    .dataframe tbody tr th:only-of-type {\n",
       "        vertical-align: middle;\n",
       "    }\n",
       "\n",
       "    .dataframe tbody tr th {\n",
       "        vertical-align: top;\n",
       "    }\n",
       "\n",
       "    .dataframe thead th {\n",
       "        text-align: right;\n",
       "    }\n",
       "</style>\n",
       "<table border=\"1\" class=\"dataframe\">\n",
       "  <thead>\n",
       "    <tr style=\"text-align: right;\">\n",
       "      <th></th>\n",
       "      <th>species</th>\n",
       "      <th>island</th>\n",
       "      <th>bill_length_mm</th>\n",
       "      <th>bill_depth_mm</th>\n",
       "      <th>flipper_length_mm</th>\n",
       "      <th>body_mass_g</th>\n",
       "      <th>sex</th>\n",
       "    </tr>\n",
       "  </thead>\n",
       "  <tbody>\n",
       "    <tr>\n",
       "      <th>0</th>\n",
       "      <td>Adelie</td>\n",
       "      <td>Torgersen</td>\n",
       "      <td>39.1</td>\n",
       "      <td>18.7</td>\n",
       "      <td>181.0</td>\n",
       "      <td>3750.0</td>\n",
       "      <td>MALE</td>\n",
       "    </tr>\n",
       "    <tr>\n",
       "      <th>1</th>\n",
       "      <td>Adelie</td>\n",
       "      <td>Torgersen</td>\n",
       "      <td>39.5</td>\n",
       "      <td>17.4</td>\n",
       "      <td>186.0</td>\n",
       "      <td>3800.0</td>\n",
       "      <td>FEMALE</td>\n",
       "    </tr>\n",
       "    <tr>\n",
       "      <th>2</th>\n",
       "      <td>Adelie</td>\n",
       "      <td>Torgersen</td>\n",
       "      <td>40.3</td>\n",
       "      <td>18.0</td>\n",
       "      <td>195.0</td>\n",
       "      <td>3250.0</td>\n",
       "      <td>FEMALE</td>\n",
       "    </tr>\n",
       "    <tr>\n",
       "      <th>3</th>\n",
       "      <td>Adelie</td>\n",
       "      <td>Torgersen</td>\n",
       "      <td>NaN</td>\n",
       "      <td>NaN</td>\n",
       "      <td>NaN</td>\n",
       "      <td>NaN</td>\n",
       "      <td>NaN</td>\n",
       "    </tr>\n",
       "    <tr>\n",
       "      <th>4</th>\n",
       "      <td>Adelie</td>\n",
       "      <td>Torgersen</td>\n",
       "      <td>36.7</td>\n",
       "      <td>19.3</td>\n",
       "      <td>193.0</td>\n",
       "      <td>3450.0</td>\n",
       "      <td>FEMALE</td>\n",
       "    </tr>\n",
       "  </tbody>\n",
       "</table>\n",
       "</div>"
      ],
      "text/plain": [
       "  species     island  bill_length_mm  bill_depth_mm  flipper_length_mm  \\\n",
       "0  Adelie  Torgersen            39.1           18.7              181.0   \n",
       "1  Adelie  Torgersen            39.5           17.4              186.0   \n",
       "2  Adelie  Torgersen            40.3           18.0              195.0   \n",
       "3  Adelie  Torgersen             NaN            NaN                NaN   \n",
       "4  Adelie  Torgersen            36.7           19.3              193.0   \n",
       "\n",
       "   body_mass_g     sex  \n",
       "0       3750.0    MALE  \n",
       "1       3800.0  FEMALE  \n",
       "2       3250.0  FEMALE  \n",
       "3          NaN     NaN  \n",
       "4       3450.0  FEMALE  "
      ]
     },
     "execution_count": 4,
     "metadata": {},
     "output_type": "execute_result"
    }
   ],
   "source": [
    "# df.head() prints out the first five rows of the csv file.\n",
    "df.head()"
   ]
  },
  {
   "cell_type": "code",
   "execution_count": 5,
   "metadata": {},
   "outputs": [
    {
     "data": {
      "text/plain": [
       "(344, 7)"
      ]
     },
     "execution_count": 5,
     "metadata": {},
     "output_type": "execute_result"
    }
   ],
   "source": [
    "# Counts the number of rows and columms in the data set.\n",
    "df.shape"
   ]
  },
  {
   "cell_type": "code",
   "execution_count": 6,
   "metadata": {},
   "outputs": [
    {
     "name": "stdout",
     "output_type": "stream",
     "text": [
      "<class 'pandas.core.frame.DataFrame'>\n",
      "RangeIndex: 344 entries, 0 to 343\n",
      "Data columns (total 7 columns):\n",
      " #   Column             Non-Null Count  Dtype  \n",
      "---  ------             --------------  -----  \n",
      " 0   species            344 non-null    object \n",
      " 1   island             344 non-null    object \n",
      " 2   bill_length_mm     342 non-null    float64\n",
      " 3   bill_depth_mm      342 non-null    float64\n",
      " 4   flipper_length_mm  342 non-null    float64\n",
      " 5   body_mass_g        342 non-null    float64\n",
      " 6   sex                333 non-null    object \n",
      "dtypes: float64(4), object(3)\n",
      "memory usage: 18.9+ KB\n"
     ]
    }
   ],
   "source": [
    "# df.info() gives concise information about the dataframe.\n",
    "df.info()"
   ]
  },
  {
   "cell_type": "code",
   "execution_count": 7,
   "metadata": {},
   "outputs": [
    {
     "data": {
      "text/plain": [
       "species               0\n",
       "island                0\n",
       "bill_length_mm        2\n",
       "bill_depth_mm         2\n",
       "flipper_length_mm     2\n",
       "body_mass_g           2\n",
       "sex                  11\n",
       "dtype: int64"
      ]
     },
     "execution_count": 7,
     "metadata": {},
     "output_type": "execute_result"
    }
   ],
   "source": [
    "# A count of the number of missing variables.\n",
    "df.isna().sum()"
   ]
  },
  {
   "cell_type": "code",
   "execution_count": 8,
   "metadata": {},
   "outputs": [
    {
     "data": {
      "text/plain": [
       "array(['Adelie', 'Chinstrap', 'Gentoo'], dtype=object)"
      ]
     },
     "execution_count": 8,
     "metadata": {},
     "output_type": "execute_result"
    }
   ],
   "source": [
    "# Unique names in the species column.\n",
    "df[\"species\"].unique()"
   ]
  },
  {
   "cell_type": "code",
   "execution_count": 9,
   "metadata": {},
   "outputs": [
    {
     "data": {
      "text/plain": [
       "array(['Torgersen', 'Biscoe', 'Dream'], dtype=object)"
      ]
     },
     "execution_count": 9,
     "metadata": {},
     "output_type": "execute_result"
    }
   ],
   "source": [
    "# Unique values in the island column.\n",
    "df[\"island\"].unique()"
   ]
  },
  {
   "cell_type": "code",
   "execution_count": 10,
   "metadata": {},
   "outputs": [
    {
     "data": {
      "text/plain": [
       "array(['MALE', 'FEMALE', nan], dtype=object)"
      ]
     },
     "execution_count": 10,
     "metadata": {},
     "output_type": "execute_result"
    }
   ],
   "source": [
    "# Unique names in the sex column.\n",
    "df[\"sex\"].unique()"
   ]
  },
  {
   "cell_type": "markdown",
   "metadata": {},
   "source": [
    "__Summary Statistics for the Palmer penguins data set__"
   ]
  },
  {
   "cell_type": "code",
   "execution_count": 11,
   "metadata": {},
   "outputs": [
    {
     "data": {
      "text/html": [
       "<div>\n",
       "<style scoped>\n",
       "    .dataframe tbody tr th:only-of-type {\n",
       "        vertical-align: middle;\n",
       "    }\n",
       "\n",
       "    .dataframe tbody tr th {\n",
       "        vertical-align: top;\n",
       "    }\n",
       "\n",
       "    .dataframe thead th {\n",
       "        text-align: right;\n",
       "    }\n",
       "</style>\n",
       "<table border=\"1\" class=\"dataframe\">\n",
       "  <thead>\n",
       "    <tr style=\"text-align: right;\">\n",
       "      <th></th>\n",
       "      <th>bill_length_mm</th>\n",
       "      <th>bill_depth_mm</th>\n",
       "      <th>flipper_length_mm</th>\n",
       "      <th>body_mass_g</th>\n",
       "    </tr>\n",
       "  </thead>\n",
       "  <tbody>\n",
       "    <tr>\n",
       "      <th>count</th>\n",
       "      <td>342.000000</td>\n",
       "      <td>342.000000</td>\n",
       "      <td>342.000000</td>\n",
       "      <td>342.000000</td>\n",
       "    </tr>\n",
       "    <tr>\n",
       "      <th>mean</th>\n",
       "      <td>43.921930</td>\n",
       "      <td>17.151170</td>\n",
       "      <td>200.915205</td>\n",
       "      <td>4201.754386</td>\n",
       "    </tr>\n",
       "    <tr>\n",
       "      <th>std</th>\n",
       "      <td>5.459584</td>\n",
       "      <td>1.974793</td>\n",
       "      <td>14.061714</td>\n",
       "      <td>801.954536</td>\n",
       "    </tr>\n",
       "    <tr>\n",
       "      <th>min</th>\n",
       "      <td>32.100000</td>\n",
       "      <td>13.100000</td>\n",
       "      <td>172.000000</td>\n",
       "      <td>2700.000000</td>\n",
       "    </tr>\n",
       "    <tr>\n",
       "      <th>25%</th>\n",
       "      <td>39.225000</td>\n",
       "      <td>15.600000</td>\n",
       "      <td>190.000000</td>\n",
       "      <td>3550.000000</td>\n",
       "    </tr>\n",
       "    <tr>\n",
       "      <th>50%</th>\n",
       "      <td>44.450000</td>\n",
       "      <td>17.300000</td>\n",
       "      <td>197.000000</td>\n",
       "      <td>4050.000000</td>\n",
       "    </tr>\n",
       "    <tr>\n",
       "      <th>75%</th>\n",
       "      <td>48.500000</td>\n",
       "      <td>18.700000</td>\n",
       "      <td>213.000000</td>\n",
       "      <td>4750.000000</td>\n",
       "    </tr>\n",
       "    <tr>\n",
       "      <th>max</th>\n",
       "      <td>59.600000</td>\n",
       "      <td>21.500000</td>\n",
       "      <td>231.000000</td>\n",
       "      <td>6300.000000</td>\n",
       "    </tr>\n",
       "  </tbody>\n",
       "</table>\n",
       "</div>"
      ],
      "text/plain": [
       "       bill_length_mm  bill_depth_mm  flipper_length_mm  body_mass_g\n",
       "count      342.000000     342.000000         342.000000   342.000000\n",
       "mean        43.921930      17.151170         200.915205  4201.754386\n",
       "std          5.459584       1.974793          14.061714   801.954536\n",
       "min         32.100000      13.100000         172.000000  2700.000000\n",
       "25%         39.225000      15.600000         190.000000  3550.000000\n",
       "50%         44.450000      17.300000         197.000000  4050.000000\n",
       "75%         48.500000      18.700000         213.000000  4750.000000\n",
       "max         59.600000      21.500000         231.000000  6300.000000"
      ]
     },
     "execution_count": 11,
     "metadata": {},
     "output_type": "execute_result"
    }
   ],
   "source": [
    "# Describe the data set. Summary statistics about the data file. \n",
    "df.describe()"
   ]
  },
  {
   "cell_type": "code",
   "execution_count": 12,
   "metadata": {},
   "outputs": [
    {
     "data": {
      "text/html": [
       "<div>\n",
       "<style scoped>\n",
       "    .dataframe tbody tr th:only-of-type {\n",
       "        vertical-align: middle;\n",
       "    }\n",
       "\n",
       "    .dataframe tbody tr th {\n",
       "        vertical-align: top;\n",
       "    }\n",
       "\n",
       "    .dataframe thead th {\n",
       "        text-align: right;\n",
       "    }\n",
       "</style>\n",
       "<table border=\"1\" class=\"dataframe\">\n",
       "  <thead>\n",
       "    <tr style=\"text-align: right;\">\n",
       "      <th></th>\n",
       "      <th>island</th>\n",
       "      <th>bill_length_mm</th>\n",
       "      <th>bill_depth_mm</th>\n",
       "      <th>flipper_length_mm</th>\n",
       "      <th>body_mass_g</th>\n",
       "      <th>sex</th>\n",
       "    </tr>\n",
       "    <tr>\n",
       "      <th>species</th>\n",
       "      <th></th>\n",
       "      <th></th>\n",
       "      <th></th>\n",
       "      <th></th>\n",
       "      <th></th>\n",
       "      <th></th>\n",
       "    </tr>\n",
       "  </thead>\n",
       "  <tbody>\n",
       "    <tr>\n",
       "      <th>Adelie</th>\n",
       "      <td>Torgersen</td>\n",
       "      <td>39.1</td>\n",
       "      <td>18.7</td>\n",
       "      <td>181.0</td>\n",
       "      <td>3750.0</td>\n",
       "      <td>MALE</td>\n",
       "    </tr>\n",
       "    <tr>\n",
       "      <th>Adelie</th>\n",
       "      <td>Torgersen</td>\n",
       "      <td>39.5</td>\n",
       "      <td>17.4</td>\n",
       "      <td>186.0</td>\n",
       "      <td>3800.0</td>\n",
       "      <td>FEMALE</td>\n",
       "    </tr>\n",
       "    <tr>\n",
       "      <th>Adelie</th>\n",
       "      <td>Torgersen</td>\n",
       "      <td>40.3</td>\n",
       "      <td>18.0</td>\n",
       "      <td>195.0</td>\n",
       "      <td>3250.0</td>\n",
       "      <td>FEMALE</td>\n",
       "    </tr>\n",
       "    <tr>\n",
       "      <th>Adelie</th>\n",
       "      <td>Torgersen</td>\n",
       "      <td>NaN</td>\n",
       "      <td>NaN</td>\n",
       "      <td>NaN</td>\n",
       "      <td>NaN</td>\n",
       "      <td>NaN</td>\n",
       "    </tr>\n",
       "    <tr>\n",
       "      <th>Adelie</th>\n",
       "      <td>Torgersen</td>\n",
       "      <td>36.7</td>\n",
       "      <td>19.3</td>\n",
       "      <td>193.0</td>\n",
       "      <td>3450.0</td>\n",
       "      <td>FEMALE</td>\n",
       "    </tr>\n",
       "  </tbody>\n",
       "</table>\n",
       "</div>"
      ],
      "text/plain": [
       "            island  bill_length_mm  bill_depth_mm  flipper_length_mm  \\\n",
       "species                                                                \n",
       "Adelie   Torgersen            39.1           18.7              181.0   \n",
       "Adelie   Torgersen            39.5           17.4              186.0   \n",
       "Adelie   Torgersen            40.3           18.0              195.0   \n",
       "Adelie   Torgersen             NaN            NaN                NaN   \n",
       "Adelie   Torgersen            36.7           19.3              193.0   \n",
       "\n",
       "         body_mass_g     sex  \n",
       "species                       \n",
       "Adelie        3750.0    MALE  \n",
       "Adelie        3800.0  FEMALE  \n",
       "Adelie        3250.0  FEMALE  \n",
       "Adelie           NaN     NaN  \n",
       "Adelie        3450.0  FEMALE  "
      ]
     },
     "execution_count": 12,
     "metadata": {},
     "output_type": "execute_result"
    }
   ],
   "source": [
    "# Renaming and reorganising the dataset so that the species column is now the index column. This will make slicing using loc() easier.\n",
    "penguins = df.set_index(\"species\")\n",
    "penguins.head()"
   ]
  },
  {
   "cell_type": "code",
   "execution_count": 13,
   "metadata": {},
   "outputs": [
    {
     "data": {
      "text/html": [
       "<div>\n",
       "<style scoped>\n",
       "    .dataframe tbody tr th:only-of-type {\n",
       "        vertical-align: middle;\n",
       "    }\n",
       "\n",
       "    .dataframe tbody tr th {\n",
       "        vertical-align: top;\n",
       "    }\n",
       "\n",
       "    .dataframe thead th {\n",
       "        text-align: right;\n",
       "    }\n",
       "</style>\n",
       "<table border=\"1\" class=\"dataframe\">\n",
       "  <thead>\n",
       "    <tr style=\"text-align: right;\">\n",
       "      <th></th>\n",
       "      <th>bill_length_mm</th>\n",
       "      <th>bill_depth_mm</th>\n",
       "      <th>flipper_length_mm</th>\n",
       "      <th>body_mass_g</th>\n",
       "    </tr>\n",
       "  </thead>\n",
       "  <tbody>\n",
       "    <tr>\n",
       "      <th>count</th>\n",
       "      <td>151.000000</td>\n",
       "      <td>151.000000</td>\n",
       "      <td>151.000000</td>\n",
       "      <td>151.000000</td>\n",
       "    </tr>\n",
       "    <tr>\n",
       "      <th>mean</th>\n",
       "      <td>38.791391</td>\n",
       "      <td>18.346358</td>\n",
       "      <td>189.953642</td>\n",
       "      <td>3700.662252</td>\n",
       "    </tr>\n",
       "    <tr>\n",
       "      <th>std</th>\n",
       "      <td>2.663405</td>\n",
       "      <td>1.216650</td>\n",
       "      <td>6.539457</td>\n",
       "      <td>458.566126</td>\n",
       "    </tr>\n",
       "    <tr>\n",
       "      <th>min</th>\n",
       "      <td>32.100000</td>\n",
       "      <td>15.500000</td>\n",
       "      <td>172.000000</td>\n",
       "      <td>2850.000000</td>\n",
       "    </tr>\n",
       "    <tr>\n",
       "      <th>25%</th>\n",
       "      <td>36.750000</td>\n",
       "      <td>17.500000</td>\n",
       "      <td>186.000000</td>\n",
       "      <td>3350.000000</td>\n",
       "    </tr>\n",
       "    <tr>\n",
       "      <th>50%</th>\n",
       "      <td>38.800000</td>\n",
       "      <td>18.400000</td>\n",
       "      <td>190.000000</td>\n",
       "      <td>3700.000000</td>\n",
       "    </tr>\n",
       "    <tr>\n",
       "      <th>75%</th>\n",
       "      <td>40.750000</td>\n",
       "      <td>19.000000</td>\n",
       "      <td>195.000000</td>\n",
       "      <td>4000.000000</td>\n",
       "    </tr>\n",
       "    <tr>\n",
       "      <th>max</th>\n",
       "      <td>46.000000</td>\n",
       "      <td>21.500000</td>\n",
       "      <td>210.000000</td>\n",
       "      <td>4775.000000</td>\n",
       "    </tr>\n",
       "  </tbody>\n",
       "</table>\n",
       "</div>"
      ],
      "text/plain": [
       "       bill_length_mm  bill_depth_mm  flipper_length_mm  body_mass_g\n",
       "count      151.000000     151.000000         151.000000   151.000000\n",
       "mean        38.791391      18.346358         189.953642  3700.662252\n",
       "std          2.663405       1.216650           6.539457   458.566126\n",
       "min         32.100000      15.500000         172.000000  2850.000000\n",
       "25%         36.750000      17.500000         186.000000  3350.000000\n",
       "50%         38.800000      18.400000         190.000000  3700.000000\n",
       "75%         40.750000      19.000000         195.000000  4000.000000\n",
       "max         46.000000      21.500000         210.000000  4775.000000"
      ]
     },
     "execution_count": 13,
     "metadata": {},
     "output_type": "execute_result"
    }
   ],
   "source": [
    "# Create an Adelie penguin dataframe and summary statistics for the Adelie penguins\n",
    "adelie = penguins.loc[['Adelie']]\n",
    "adelie.describe()"
   ]
  },
  {
   "cell_type": "code",
   "execution_count": 14,
   "metadata": {},
   "outputs": [
    {
     "data": {
      "text/html": [
       "<div>\n",
       "<style scoped>\n",
       "    .dataframe tbody tr th:only-of-type {\n",
       "        vertical-align: middle;\n",
       "    }\n",
       "\n",
       "    .dataframe tbody tr th {\n",
       "        vertical-align: top;\n",
       "    }\n",
       "\n",
       "    .dataframe thead th {\n",
       "        text-align: right;\n",
       "    }\n",
       "</style>\n",
       "<table border=\"1\" class=\"dataframe\">\n",
       "  <thead>\n",
       "    <tr style=\"text-align: right;\">\n",
       "      <th></th>\n",
       "      <th>bill_length_mm</th>\n",
       "      <th>bill_depth_mm</th>\n",
       "      <th>flipper_length_mm</th>\n",
       "      <th>body_mass_g</th>\n",
       "    </tr>\n",
       "  </thead>\n",
       "  <tbody>\n",
       "    <tr>\n",
       "      <th>count</th>\n",
       "      <td>68.000000</td>\n",
       "      <td>68.000000</td>\n",
       "      <td>68.000000</td>\n",
       "      <td>68.000000</td>\n",
       "    </tr>\n",
       "    <tr>\n",
       "      <th>mean</th>\n",
       "      <td>48.833824</td>\n",
       "      <td>18.420588</td>\n",
       "      <td>195.823529</td>\n",
       "      <td>3733.088235</td>\n",
       "    </tr>\n",
       "    <tr>\n",
       "      <th>std</th>\n",
       "      <td>3.339256</td>\n",
       "      <td>1.135395</td>\n",
       "      <td>7.131894</td>\n",
       "      <td>384.335081</td>\n",
       "    </tr>\n",
       "    <tr>\n",
       "      <th>min</th>\n",
       "      <td>40.900000</td>\n",
       "      <td>16.400000</td>\n",
       "      <td>178.000000</td>\n",
       "      <td>2700.000000</td>\n",
       "    </tr>\n",
       "    <tr>\n",
       "      <th>25%</th>\n",
       "      <td>46.350000</td>\n",
       "      <td>17.500000</td>\n",
       "      <td>191.000000</td>\n",
       "      <td>3487.500000</td>\n",
       "    </tr>\n",
       "    <tr>\n",
       "      <th>50%</th>\n",
       "      <td>49.550000</td>\n",
       "      <td>18.450000</td>\n",
       "      <td>196.000000</td>\n",
       "      <td>3700.000000</td>\n",
       "    </tr>\n",
       "    <tr>\n",
       "      <th>75%</th>\n",
       "      <td>51.075000</td>\n",
       "      <td>19.400000</td>\n",
       "      <td>201.000000</td>\n",
       "      <td>3950.000000</td>\n",
       "    </tr>\n",
       "    <tr>\n",
       "      <th>max</th>\n",
       "      <td>58.000000</td>\n",
       "      <td>20.800000</td>\n",
       "      <td>212.000000</td>\n",
       "      <td>4800.000000</td>\n",
       "    </tr>\n",
       "  </tbody>\n",
       "</table>\n",
       "</div>"
      ],
      "text/plain": [
       "       bill_length_mm  bill_depth_mm  flipper_length_mm  body_mass_g\n",
       "count       68.000000      68.000000          68.000000    68.000000\n",
       "mean        48.833824      18.420588         195.823529  3733.088235\n",
       "std          3.339256       1.135395           7.131894   384.335081\n",
       "min         40.900000      16.400000         178.000000  2700.000000\n",
       "25%         46.350000      17.500000         191.000000  3487.500000\n",
       "50%         49.550000      18.450000         196.000000  3700.000000\n",
       "75%         51.075000      19.400000         201.000000  3950.000000\n",
       "max         58.000000      20.800000         212.000000  4800.000000"
      ]
     },
     "execution_count": 14,
     "metadata": {},
     "output_type": "execute_result"
    }
   ],
   "source": [
    "# Create an Chinstrap penguin dataframe and summary statistics for the Chinstrap penguins.\n",
    "chinstrap = penguins.loc[['Chinstrap']]\n",
    "chinstrap.describe()"
   ]
  },
  {
   "cell_type": "code",
   "execution_count": 15,
   "metadata": {},
   "outputs": [
    {
     "data": {
      "text/html": [
       "<div>\n",
       "<style scoped>\n",
       "    .dataframe tbody tr th:only-of-type {\n",
       "        vertical-align: middle;\n",
       "    }\n",
       "\n",
       "    .dataframe tbody tr th {\n",
       "        vertical-align: top;\n",
       "    }\n",
       "\n",
       "    .dataframe thead th {\n",
       "        text-align: right;\n",
       "    }\n",
       "</style>\n",
       "<table border=\"1\" class=\"dataframe\">\n",
       "  <thead>\n",
       "    <tr style=\"text-align: right;\">\n",
       "      <th></th>\n",
       "      <th>bill_length_mm</th>\n",
       "      <th>bill_depth_mm</th>\n",
       "      <th>flipper_length_mm</th>\n",
       "      <th>body_mass_g</th>\n",
       "    </tr>\n",
       "  </thead>\n",
       "  <tbody>\n",
       "    <tr>\n",
       "      <th>count</th>\n",
       "      <td>123.000000</td>\n",
       "      <td>123.000000</td>\n",
       "      <td>123.000000</td>\n",
       "      <td>123.000000</td>\n",
       "    </tr>\n",
       "    <tr>\n",
       "      <th>mean</th>\n",
       "      <td>47.504878</td>\n",
       "      <td>14.982114</td>\n",
       "      <td>217.186992</td>\n",
       "      <td>5076.016260</td>\n",
       "    </tr>\n",
       "    <tr>\n",
       "      <th>std</th>\n",
       "      <td>3.081857</td>\n",
       "      <td>0.981220</td>\n",
       "      <td>6.484976</td>\n",
       "      <td>504.116237</td>\n",
       "    </tr>\n",
       "    <tr>\n",
       "      <th>min</th>\n",
       "      <td>40.900000</td>\n",
       "      <td>13.100000</td>\n",
       "      <td>203.000000</td>\n",
       "      <td>3950.000000</td>\n",
       "    </tr>\n",
       "    <tr>\n",
       "      <th>25%</th>\n",
       "      <td>45.300000</td>\n",
       "      <td>14.200000</td>\n",
       "      <td>212.000000</td>\n",
       "      <td>4700.000000</td>\n",
       "    </tr>\n",
       "    <tr>\n",
       "      <th>50%</th>\n",
       "      <td>47.300000</td>\n",
       "      <td>15.000000</td>\n",
       "      <td>216.000000</td>\n",
       "      <td>5000.000000</td>\n",
       "    </tr>\n",
       "    <tr>\n",
       "      <th>75%</th>\n",
       "      <td>49.550000</td>\n",
       "      <td>15.700000</td>\n",
       "      <td>221.000000</td>\n",
       "      <td>5500.000000</td>\n",
       "    </tr>\n",
       "    <tr>\n",
       "      <th>max</th>\n",
       "      <td>59.600000</td>\n",
       "      <td>17.300000</td>\n",
       "      <td>231.000000</td>\n",
       "      <td>6300.000000</td>\n",
       "    </tr>\n",
       "  </tbody>\n",
       "</table>\n",
       "</div>"
      ],
      "text/plain": [
       "       bill_length_mm  bill_depth_mm  flipper_length_mm  body_mass_g\n",
       "count      123.000000     123.000000         123.000000   123.000000\n",
       "mean        47.504878      14.982114         217.186992  5076.016260\n",
       "std          3.081857       0.981220           6.484976   504.116237\n",
       "min         40.900000      13.100000         203.000000  3950.000000\n",
       "25%         45.300000      14.200000         212.000000  4700.000000\n",
       "50%         47.300000      15.000000         216.000000  5000.000000\n",
       "75%         49.550000      15.700000         221.000000  5500.000000\n",
       "max         59.600000      17.300000         231.000000  6300.000000"
      ]
     },
     "execution_count": 15,
     "metadata": {},
     "output_type": "execute_result"
    }
   ],
   "source": [
    "# Create an Gentoo penguin dataframe and summary statistics for the Gentoo penguins.\n",
    "gentoo = penguins.loc[['Gentoo']]\n",
    "gentoo.describe()"
   ]
  },
  {
   "cell_type": "markdown",
   "metadata": {},
   "source": [
    "**Overview of the data set and the variables within it.**\n",
    "\n",
    "The data set has 344 rows and seven columns. Each row is an individual penguin and for each penguin there are seven possible variables.\n",
    "\n",
    "The seven variables in the dataset are:\n",
    "* species\n",
    "* island\n",
    "* bill length in mm\n",
    "* bill depth in mm\n",
    "* flipper length in mm\n",
    "* the body mass in g\n",
    "* the sex of the penguin.\n",
    "\n",
    "Three penguin species were studied - the Adélie, Chinstrap and Gentoo penguin. They were found on three islands in the Palmer Archipelago, Antarctica - Dream Island, Torgerson Island and Biscoe Point, which are referred to as Dream, Torgerson and Biscoe in the data set.\n",
    "\n",
    "\n",
    "<center><img src=\"islands.png\" alt=\"image\" style = \"width:600px; height=auto\"></center>\n",
    "\n",
    "\n",
    "_Image credit Gorman KB, Williams TD, Fraser WR (2014) Ecological Sexual Dimorphism and Environmental Variability within a Community of Antarctic Penguins (Genus Pygoscelis). PLoS ONE 9(3): e90081_\n",
    "\n",
    "\n",
    "This artwork by Allison Horst nicely depicts the difference between the bill length and bill depth and how they were measured. Please note that in the original data set the word culmen was used in place of bill. \n",
    "\n",
    "\n",
    "![Bill length and bill depth](https://miro.medium.com/v2/resize:fit:640/format:webp/1*WSb-Y9xb3YSx9owW7_JuMw.png)\n",
    "\n",
    "_Penguin Bills, artwork by @allison_horst_\n",
    "\n",
    "\n",
    "[Gorman et al](https://doi.org/10.1371/journal.pone.0090081) states that the bill length and bill depth were measured in mm to an accuracy of 0.1mm using a dial calipers while flipper length was measured in mm using a ruler to an accuracy of 1mm. The body mass of the penguins was measured in grams. The sex of the penguins was determined by molecular analysis of a blood sample from the penguin. \n",
    "\n",
    "There are no variables missing from two columns, the species and island columns. The other columns have some missing data. The sex column has the most missing values with 11 instances of missing data. Bill length, bill depth, flipper length and body mass all have two pieces of missing data each."
   ]
  },
  {
   "cell_type": "markdown",
   "metadata": {},
   "source": [
    "### Data types in the data set.\n",
    "\n",
    "When a data set is loaded pandas automatically assigns what it thinks is the best data type for the data. Numerical data are categorised as integers or floats. Non-numerical data are automatically assigned as objects, which is equivalent to strings in python. \n",
    "\n",
    "Pandas data type names have a slightly different name compared to their python data types name, as shown in the table below.\n",
    "\n",
    "| Python | Pandas |\n",
    "|--------|--------|\n",
    "| string| object|\n",
    "|float|float64|\n",
    "|integer|int64|\n",
    "|bool|bool|\n",
    "| - |category|\n",
    "|-|datetime64|"
   ]
  },
  {
   "cell_type": "code",
   "execution_count": 16,
   "metadata": {},
   "outputs": [
    {
     "data": {
      "text/plain": [
       "species               object\n",
       "island                object\n",
       "bill_length_mm       float64\n",
       "bill_depth_mm        float64\n",
       "flipper_length_mm    float64\n",
       "body_mass_g          float64\n",
       "sex                   object\n",
       "dtype: object"
      ]
     },
     "execution_count": 16,
     "metadata": {},
     "output_type": "execute_result"
    }
   ],
   "source": [
    "# Check the data type of the variables.\n",
    "df.dtypes"
   ]
  },
  {
   "cell_type": "markdown",
   "metadata": {},
   "source": [
    "__Data types__\n",
    "\n",
    "The bill length, bill depth, flipper length and body mass were given the data type float64 by pandas. Species, island and sex are all non-numerical data and were assigned the object data type.\n",
    "\n",
    "Bill length and bill depth were measured in mm with the result recorded to one decimal place. These are floating point numbers and pandas has correctly assigned them to the data type of float64.\n",
    "\n",
    "After reviewing the raw data file I noticed that while flipper length and body mass were measured in mm, they were not measured to the same degree of accuracy as the bill measurements and were recorded as whole numbers i.e. integers. The correct data type for these two columns should be int64.\n",
    "\n",
    "After completing the data camp course, [working with categorical data](https://app.datacamp.com/learn/courses/working-with-categorical-data-in-python) I realised if a column contains a limited and fixed number of non-numerical values it should, if possible be assigned to the pandas data type of [category](https://pandas.pydata.org/docs/user_guide/categorical.html). There is no corresponding data type in python. For large data sets changing the data type to category could potentially result in significant memory savings.\n",
    "\n",
    "I had originally assumed that the object data type applied to species, island and sex was correct however these three columns should be assigned to the data type of category as they all have limited, fixed values so I will change their data type to category using the [astype() method](https://www.geeksforgeeks.org/python-pandas-dataframe-astype/)."
   ]
  },
  {
   "cell_type": "code",
   "execution_count": 17,
   "metadata": {},
   "outputs": [
    {
     "data": {
      "text/plain": [
       "float"
      ]
     },
     "execution_count": 17,
     "metadata": {},
     "output_type": "execute_result"
    }
   ],
   "source": [
    "type(np.nan)"
   ]
  },
  {
   "cell_type": "markdown",
   "metadata": {},
   "source": [
    "__Dealing with missing data__\n",
    "\n",
    "Before the data type of the flipper length, body mass and sex columns can be changed the missing values, NaN in these columns needs to be dealt with. The astype method will not work to change the data type of the columns with NaN values as NaN is always assigned as a floating point number data type.\n",
    "\n",
    "Chapter 5 in the book, Pandas for Everyone: Python data analysis by  Daniel Y Chen the missing data can be handled by:\n",
    "* dropping the rows with missing data with the [dropna method](https://pandas.pydata.org/docs/reference/api/pandas.DataFrame.dropna.html)\n",
    "* replacing the missing data using the [fillna method](https://pandas.pydata.org/docs/reference/api/pandas.DataFrame.fillna.html). The fillna can be used to fill in the missing values based on other values perhaps by replacing the NaN with the mean that column or by forward or back filling using values. \n",
    "\n",
    "First look at the rows with missing data to decide which option to take."
   ]
  },
  {
   "cell_type": "code",
   "execution_count": 18,
   "metadata": {},
   "outputs": [
    {
     "data": {
      "text/html": [
       "<div>\n",
       "<style scoped>\n",
       "    .dataframe tbody tr th:only-of-type {\n",
       "        vertical-align: middle;\n",
       "    }\n",
       "\n",
       "    .dataframe tbody tr th {\n",
       "        vertical-align: top;\n",
       "    }\n",
       "\n",
       "    .dataframe thead th {\n",
       "        text-align: right;\n",
       "    }\n",
       "</style>\n",
       "<table border=\"1\" class=\"dataframe\">\n",
       "  <thead>\n",
       "    <tr style=\"text-align: right;\">\n",
       "      <th></th>\n",
       "      <th>species</th>\n",
       "      <th>island</th>\n",
       "      <th>bill_length_mm</th>\n",
       "      <th>bill_depth_mm</th>\n",
       "      <th>flipper_length_mm</th>\n",
       "      <th>body_mass_g</th>\n",
       "      <th>sex</th>\n",
       "    </tr>\n",
       "  </thead>\n",
       "  <tbody>\n",
       "    <tr>\n",
       "      <th>3</th>\n",
       "      <td>Adelie</td>\n",
       "      <td>Torgersen</td>\n",
       "      <td>NaN</td>\n",
       "      <td>NaN</td>\n",
       "      <td>NaN</td>\n",
       "      <td>NaN</td>\n",
       "      <td>NaN</td>\n",
       "    </tr>\n",
       "    <tr>\n",
       "      <th>8</th>\n",
       "      <td>Adelie</td>\n",
       "      <td>Torgersen</td>\n",
       "      <td>34.1</td>\n",
       "      <td>18.1</td>\n",
       "      <td>193.0</td>\n",
       "      <td>3475.0</td>\n",
       "      <td>NaN</td>\n",
       "    </tr>\n",
       "    <tr>\n",
       "      <th>9</th>\n",
       "      <td>Adelie</td>\n",
       "      <td>Torgersen</td>\n",
       "      <td>42.0</td>\n",
       "      <td>20.2</td>\n",
       "      <td>190.0</td>\n",
       "      <td>4250.0</td>\n",
       "      <td>NaN</td>\n",
       "    </tr>\n",
       "    <tr>\n",
       "      <th>10</th>\n",
       "      <td>Adelie</td>\n",
       "      <td>Torgersen</td>\n",
       "      <td>37.8</td>\n",
       "      <td>17.1</td>\n",
       "      <td>186.0</td>\n",
       "      <td>3300.0</td>\n",
       "      <td>NaN</td>\n",
       "    </tr>\n",
       "    <tr>\n",
       "      <th>11</th>\n",
       "      <td>Adelie</td>\n",
       "      <td>Torgersen</td>\n",
       "      <td>37.8</td>\n",
       "      <td>17.3</td>\n",
       "      <td>180.0</td>\n",
       "      <td>3700.0</td>\n",
       "      <td>NaN</td>\n",
       "    </tr>\n",
       "    <tr>\n",
       "      <th>47</th>\n",
       "      <td>Adelie</td>\n",
       "      <td>Dream</td>\n",
       "      <td>37.5</td>\n",
       "      <td>18.9</td>\n",
       "      <td>179.0</td>\n",
       "      <td>2975.0</td>\n",
       "      <td>NaN</td>\n",
       "    </tr>\n",
       "    <tr>\n",
       "      <th>246</th>\n",
       "      <td>Gentoo</td>\n",
       "      <td>Biscoe</td>\n",
       "      <td>44.5</td>\n",
       "      <td>14.3</td>\n",
       "      <td>216.0</td>\n",
       "      <td>4100.0</td>\n",
       "      <td>NaN</td>\n",
       "    </tr>\n",
       "    <tr>\n",
       "      <th>286</th>\n",
       "      <td>Gentoo</td>\n",
       "      <td>Biscoe</td>\n",
       "      <td>46.2</td>\n",
       "      <td>14.4</td>\n",
       "      <td>214.0</td>\n",
       "      <td>4650.0</td>\n",
       "      <td>NaN</td>\n",
       "    </tr>\n",
       "    <tr>\n",
       "      <th>324</th>\n",
       "      <td>Gentoo</td>\n",
       "      <td>Biscoe</td>\n",
       "      <td>47.3</td>\n",
       "      <td>13.8</td>\n",
       "      <td>216.0</td>\n",
       "      <td>4725.0</td>\n",
       "      <td>NaN</td>\n",
       "    </tr>\n",
       "    <tr>\n",
       "      <th>336</th>\n",
       "      <td>Gentoo</td>\n",
       "      <td>Biscoe</td>\n",
       "      <td>44.5</td>\n",
       "      <td>15.7</td>\n",
       "      <td>217.0</td>\n",
       "      <td>4875.0</td>\n",
       "      <td>NaN</td>\n",
       "    </tr>\n",
       "    <tr>\n",
       "      <th>339</th>\n",
       "      <td>Gentoo</td>\n",
       "      <td>Biscoe</td>\n",
       "      <td>NaN</td>\n",
       "      <td>NaN</td>\n",
       "      <td>NaN</td>\n",
       "      <td>NaN</td>\n",
       "      <td>NaN</td>\n",
       "    </tr>\n",
       "  </tbody>\n",
       "</table>\n",
       "</div>"
      ],
      "text/plain": [
       "    species     island  bill_length_mm  bill_depth_mm  flipper_length_mm  \\\n",
       "3    Adelie  Torgersen             NaN            NaN                NaN   \n",
       "8    Adelie  Torgersen            34.1           18.1              193.0   \n",
       "9    Adelie  Torgersen            42.0           20.2              190.0   \n",
       "10   Adelie  Torgersen            37.8           17.1              186.0   \n",
       "11   Adelie  Torgersen            37.8           17.3              180.0   \n",
       "47   Adelie      Dream            37.5           18.9              179.0   \n",
       "246  Gentoo     Biscoe            44.5           14.3              216.0   \n",
       "286  Gentoo     Biscoe            46.2           14.4              214.0   \n",
       "324  Gentoo     Biscoe            47.3           13.8              216.0   \n",
       "336  Gentoo     Biscoe            44.5           15.7              217.0   \n",
       "339  Gentoo     Biscoe             NaN            NaN                NaN   \n",
       "\n",
       "     body_mass_g  sex  \n",
       "3            NaN  NaN  \n",
       "8         3475.0  NaN  \n",
       "9         4250.0  NaN  \n",
       "10        3300.0  NaN  \n",
       "11        3700.0  NaN  \n",
       "47        2975.0  NaN  \n",
       "246       4100.0  NaN  \n",
       "286       4650.0  NaN  \n",
       "324       4725.0  NaN  \n",
       "336       4875.0  NaN  \n",
       "339          NaN  NaN  "
      ]
     },
     "execution_count": 18,
     "metadata": {},
     "output_type": "execute_result"
    }
   ],
   "source": [
    "# Find the rows with missing data\n",
    "# Save the results as a dataframe - it might be useful.\n",
    "df_nan = df[df.isnull().any(axis = 1)]\n",
    "df_nan"
   ]
  },
  {
   "cell_type": "code",
   "execution_count": 42,
   "metadata": {},
   "outputs": [
    {
     "data": {
      "text/html": [
       "<div>\n",
       "<style scoped>\n",
       "    .dataframe tbody tr th:only-of-type {\n",
       "        vertical-align: middle;\n",
       "    }\n",
       "\n",
       "    .dataframe tbody tr th {\n",
       "        vertical-align: top;\n",
       "    }\n",
       "\n",
       "    .dataframe thead tr th {\n",
       "        text-align: left;\n",
       "    }\n",
       "\n",
       "    .dataframe thead tr:last-of-type th {\n",
       "        text-align: right;\n",
       "    }\n",
       "</style>\n",
       "<table border=\"1\" class=\"dataframe\">\n",
       "  <thead>\n",
       "    <tr>\n",
       "      <th></th>\n",
       "      <th colspan=\"4\" halign=\"left\">bill_length_mm</th>\n",
       "      <th colspan=\"4\" halign=\"left\">bill_depth_mm</th>\n",
       "      <th colspan=\"4\" halign=\"left\">flipper_length_mm</th>\n",
       "      <th colspan=\"4\" halign=\"left\">body_mass_g</th>\n",
       "    </tr>\n",
       "    <tr>\n",
       "      <th></th>\n",
       "      <th>mean</th>\n",
       "      <th>median</th>\n",
       "      <th>min</th>\n",
       "      <th>max</th>\n",
       "      <th>mean</th>\n",
       "      <th>median</th>\n",
       "      <th>min</th>\n",
       "      <th>max</th>\n",
       "      <th>mean</th>\n",
       "      <th>median</th>\n",
       "      <th>min</th>\n",
       "      <th>max</th>\n",
       "      <th>mean</th>\n",
       "      <th>median</th>\n",
       "      <th>min</th>\n",
       "      <th>max</th>\n",
       "    </tr>\n",
       "    <tr>\n",
       "      <th>species</th>\n",
       "      <th></th>\n",
       "      <th></th>\n",
       "      <th></th>\n",
       "      <th></th>\n",
       "      <th></th>\n",
       "      <th></th>\n",
       "      <th></th>\n",
       "      <th></th>\n",
       "      <th></th>\n",
       "      <th></th>\n",
       "      <th></th>\n",
       "      <th></th>\n",
       "      <th></th>\n",
       "      <th></th>\n",
       "      <th></th>\n",
       "      <th></th>\n",
       "    </tr>\n",
       "  </thead>\n",
       "  <tbody>\n",
       "    <tr>\n",
       "      <th>Adelie</th>\n",
       "      <td>38.823973</td>\n",
       "      <td>38.85</td>\n",
       "      <td>32.1</td>\n",
       "      <td>46.0</td>\n",
       "      <td>18.347260</td>\n",
       "      <td>18.40</td>\n",
       "      <td>15.5</td>\n",
       "      <td>21.5</td>\n",
       "      <td>190.102740</td>\n",
       "      <td>190.0</td>\n",
       "      <td>172</td>\n",
       "      <td>210</td>\n",
       "      <td>3706.164384</td>\n",
       "      <td>3700.0</td>\n",
       "      <td>2850</td>\n",
       "      <td>4775</td>\n",
       "    </tr>\n",
       "    <tr>\n",
       "      <th>Chinstrap</th>\n",
       "      <td>48.833824</td>\n",
       "      <td>49.55</td>\n",
       "      <td>40.9</td>\n",
       "      <td>58.0</td>\n",
       "      <td>18.420588</td>\n",
       "      <td>18.45</td>\n",
       "      <td>16.4</td>\n",
       "      <td>20.8</td>\n",
       "      <td>195.823529</td>\n",
       "      <td>196.0</td>\n",
       "      <td>178</td>\n",
       "      <td>212</td>\n",
       "      <td>3733.088235</td>\n",
       "      <td>3700.0</td>\n",
       "      <td>2700</td>\n",
       "      <td>4800</td>\n",
       "    </tr>\n",
       "    <tr>\n",
       "      <th>Gentoo</th>\n",
       "      <td>47.568067</td>\n",
       "      <td>47.40</td>\n",
       "      <td>40.9</td>\n",
       "      <td>59.6</td>\n",
       "      <td>14.996639</td>\n",
       "      <td>15.00</td>\n",
       "      <td>13.1</td>\n",
       "      <td>17.3</td>\n",
       "      <td>217.235294</td>\n",
       "      <td>216.0</td>\n",
       "      <td>203</td>\n",
       "      <td>231</td>\n",
       "      <td>5092.436975</td>\n",
       "      <td>5050.0</td>\n",
       "      <td>3950</td>\n",
       "      <td>6300</td>\n",
       "    </tr>\n",
       "  </tbody>\n",
       "</table>\n",
       "</div>"
      ],
      "text/plain": [
       "          bill_length_mm                    bill_depth_mm                     \\\n",
       "                    mean median   min   max          mean median   min   max   \n",
       "species                                                                        \n",
       "Adelie         38.823973  38.85  32.1  46.0     18.347260  18.40  15.5  21.5   \n",
       "Chinstrap      48.833824  49.55  40.9  58.0     18.420588  18.45  16.4  20.8   \n",
       "Gentoo         47.568067  47.40  40.9  59.6     14.996639  15.00  13.1  17.3   \n",
       "\n",
       "          flipper_length_mm                   body_mass_g                      \n",
       "                       mean median  min  max         mean  median   min   max  \n",
       "species                                                                        \n",
       "Adelie           190.102740  190.0  172  210  3706.164384  3700.0  2850  4775  \n",
       "Chinstrap        195.823529  196.0  178  212  3733.088235  3700.0  2700  4800  \n",
       "Gentoo           217.235294  216.0  203  231  5092.436975  5050.0  3950  6300  "
      ]
     },
     "execution_count": 42,
     "metadata": {},
     "output_type": "execute_result"
    }
   ],
   "source": [
    "df.groupby('species')[['bill_length_mm', 'bill_depth_mm', 'flipper_length_mm' , 'body_mass_g']].agg([np.mean, np.median, min, max])"
   ]
  },
  {
   "cell_type": "markdown",
   "metadata": {},
   "source": [
    "Decided to drop all the rows with Nan's. Ideally I would have used fillna but as I currently have no method to predict the sex of the penguins based on the other variables I decided against it. \n",
    "\n",
    "It is worth noting that if fillna was used to replace the missing values in the numerical variable columns it would need to calculated by species. For example in the overall summary statistics for the flipper length column the mean is 200.915205mm but the above table shows that each of the species has a distinctly different mean for the flipper length."
   ]
  },
  {
   "cell_type": "code",
   "execution_count": 39,
   "metadata": {},
   "outputs": [
    {
     "data": {
      "text/plain": [
       "0"
      ]
     },
     "execution_count": 39,
     "metadata": {},
     "output_type": "execute_result"
    }
   ],
   "source": [
    "# Check for duplicated rows.\n",
    "df.duplicated().sum()"
   ]
  },
  {
   "cell_type": "code",
   "execution_count": 31,
   "metadata": {},
   "outputs": [],
   "source": [
    "# Drop rows with NaN\n",
    "df.dropna(inplace=True)"
   ]
  },
  {
   "cell_type": "code",
   "execution_count": 32,
   "metadata": {},
   "outputs": [
    {
     "data": {
      "text/plain": [
       "species              0\n",
       "island               0\n",
       "bill_length_mm       0\n",
       "bill_depth_mm        0\n",
       "flipper_length_mm    0\n",
       "body_mass_g          0\n",
       "sex                  0\n",
       "dtype: int64"
      ]
     },
     "execution_count": 32,
     "metadata": {},
     "output_type": "execute_result"
    }
   ],
   "source": [
    "# Check to see if the rows with missing values in the flipper length and body mass columns have been dropped.\n",
    "df.isna().sum()"
   ]
  },
  {
   "cell_type": "code",
   "execution_count": 33,
   "metadata": {},
   "outputs": [],
   "source": [
    "# Change the data type of the species, island and sex columns to category.\n",
    "df[['species', 'island', 'sex']] = df[['species', 'island', 'sex']].astype('category')\n"
   ]
  },
  {
   "cell_type": "code",
   "execution_count": 34,
   "metadata": {},
   "outputs": [],
   "source": [
    "# Change the flipper length and body mass columns to the int data type.\n",
    "df[['flipper_length_mm', 'body_mass_g']] = df[['flipper_length_mm', 'body_mass_g']].astype('int64')"
   ]
  },
  {
   "cell_type": "code",
   "execution_count": 35,
   "metadata": {},
   "outputs": [
    {
     "data": {
      "text/plain": [
       "species              category\n",
       "island               category\n",
       "bill_length_mm        float64\n",
       "bill_depth_mm         float64\n",
       "flipper_length_mm       int64\n",
       "body_mass_g             int64\n",
       "sex                  category\n",
       "dtype: object"
      ]
     },
     "execution_count": 35,
     "metadata": {},
     "output_type": "execute_result"
    }
   ],
   "source": [
    "# Check to see if the data type changes have been applied. \n",
    "df.dtypes"
   ]
  },
  {
   "cell_type": "markdown",
   "metadata": {},
   "source": [
    "For consistancy I would like the formatting of the sex column to be in line with the formatting of the species and island columns i.e title case."
   ]
  },
  {
   "cell_type": "code",
   "execution_count": 36,
   "metadata": {},
   "outputs": [
    {
     "data": {
      "text/html": [
       "<div>\n",
       "<style scoped>\n",
       "    .dataframe tbody tr th:only-of-type {\n",
       "        vertical-align: middle;\n",
       "    }\n",
       "\n",
       "    .dataframe tbody tr th {\n",
       "        vertical-align: top;\n",
       "    }\n",
       "\n",
       "    .dataframe thead th {\n",
       "        text-align: right;\n",
       "    }\n",
       "</style>\n",
       "<table border=\"1\" class=\"dataframe\">\n",
       "  <thead>\n",
       "    <tr style=\"text-align: right;\">\n",
       "      <th></th>\n",
       "      <th>species</th>\n",
       "      <th>island</th>\n",
       "      <th>bill_length_mm</th>\n",
       "      <th>bill_depth_mm</th>\n",
       "      <th>flipper_length_mm</th>\n",
       "      <th>body_mass_g</th>\n",
       "      <th>sex</th>\n",
       "    </tr>\n",
       "  </thead>\n",
       "  <tbody>\n",
       "    <tr>\n",
       "      <th>0</th>\n",
       "      <td>Adelie</td>\n",
       "      <td>Torgersen</td>\n",
       "      <td>39.1</td>\n",
       "      <td>18.7</td>\n",
       "      <td>181</td>\n",
       "      <td>3750</td>\n",
       "      <td>Male</td>\n",
       "    </tr>\n",
       "    <tr>\n",
       "      <th>1</th>\n",
       "      <td>Adelie</td>\n",
       "      <td>Torgersen</td>\n",
       "      <td>39.5</td>\n",
       "      <td>17.4</td>\n",
       "      <td>186</td>\n",
       "      <td>3800</td>\n",
       "      <td>Female</td>\n",
       "    </tr>\n",
       "    <tr>\n",
       "      <th>2</th>\n",
       "      <td>Adelie</td>\n",
       "      <td>Torgersen</td>\n",
       "      <td>40.3</td>\n",
       "      <td>18.0</td>\n",
       "      <td>195</td>\n",
       "      <td>3250</td>\n",
       "      <td>Female</td>\n",
       "    </tr>\n",
       "    <tr>\n",
       "      <th>4</th>\n",
       "      <td>Adelie</td>\n",
       "      <td>Torgersen</td>\n",
       "      <td>36.7</td>\n",
       "      <td>19.3</td>\n",
       "      <td>193</td>\n",
       "      <td>3450</td>\n",
       "      <td>Female</td>\n",
       "    </tr>\n",
       "    <tr>\n",
       "      <th>5</th>\n",
       "      <td>Adelie</td>\n",
       "      <td>Torgersen</td>\n",
       "      <td>39.3</td>\n",
       "      <td>20.6</td>\n",
       "      <td>190</td>\n",
       "      <td>3650</td>\n",
       "      <td>Male</td>\n",
       "    </tr>\n",
       "  </tbody>\n",
       "</table>\n",
       "</div>"
      ],
      "text/plain": [
       "  species     island  bill_length_mm  bill_depth_mm  flipper_length_mm  \\\n",
       "0  Adelie  Torgersen            39.1           18.7                181   \n",
       "1  Adelie  Torgersen            39.5           17.4                186   \n",
       "2  Adelie  Torgersen            40.3           18.0                195   \n",
       "4  Adelie  Torgersen            36.7           19.3                193   \n",
       "5  Adelie  Torgersen            39.3           20.6                190   \n",
       "\n",
       "   body_mass_g     sex  \n",
       "0         3750    Male  \n",
       "1         3800  Female  \n",
       "2         3250  Female  \n",
       "4         3450  Female  \n",
       "5         3650    Male  "
      ]
     },
     "execution_count": 36,
     "metadata": {},
     "output_type": "execute_result"
    }
   ],
   "source": [
    "# Changing the format of the sex column.\n",
    "df['sex'] = df['sex'].str.title()\n",
    "df.head()"
   ]
  },
  {
   "cell_type": "markdown",
   "metadata": {},
   "source": [
    "### Bar chart of the penguin population on each island.\n",
    "***\n",
    "\n",
    "Task: Create a bar chart of an appropriate variable.\n",
    "\n",
    "From [geeksforgeeks.com](https://www.geeksforgeeks.org/bar-plot-in-matplotlib/) \"a bar chart is used to describe the comparisons between discrete categories. One of the axis of the plot represents the specific categories being compared, while the other axis represents the measured value\". A bar chart could be used to examine the penguin population on each island so the x-axis will be the islands as it has discrete categories and the y-axis will be the penguin population."
   ]
  },
  {
   "cell_type": "code",
   "execution_count": 43,
   "metadata": {},
   "outputs": [
    {
     "data": {
      "text/plain": [
       "island\n",
       "Biscoe       163\n",
       "Dream        123\n",
       "Torgersen     47\n",
       "Name: count, dtype: int64"
      ]
     },
     "execution_count": 43,
     "metadata": {},
     "output_type": "execute_result"
    }
   ],
   "source": [
    "# Penguin population on each island.\n",
    "df['island'].value_counts()"
   ]
  },
  {
   "cell_type": "code",
   "execution_count": 44,
   "metadata": {},
   "outputs": [
    {
     "data": {
      "image/png": "[encoded data removed]",
      "text/plain": [
       "<Figure size 640x480 with 1 Axes>"
      ]
     },
     "metadata": {},
     "output_type": "display_data"
    }
   ],
   "source": [
    "# Plotting a bar chart of the penguin population on each island.\n",
    "\n",
    "# Set the x-axis to the island names.\n",
    "xpoints = np.array([\"Biscoe\", \"Dream\", \"Torgersen\"])\n",
    "\n",
    "# Set the y-axis to the count of each penguin per island.\n",
    "ypoints = np.array(df['island'].value_counts())\n",
    "\n",
    "# Plot the bar chart.\n",
    "plt.bar(xpoints, ypoints, edgecolor = \"black\")\n",
    "\n",
    "# Set the labels for the x-axis, y-axis and title of the plot.\n",
    "plt.xlabel(\"Island Name\")\n",
    "plt.ylabel(\"No. of Penguins\")\n",
    "plt.title(\"No. of Penguins per Island\")\n",
    "\n",
    "# Display the plot\n",
    "plt.show()"
   ]
  },
  {
   "cell_type": "markdown",
   "metadata": {},
   "source": [
    "__Investigating the penguin species by island__\n",
    "\n",
    "While the above plot is reasonalbe, it would be nice to get more information about the penguins and to discover what penguin species live on each island. A bar chart could then be plotted to show a breakdown of the penguin count by species on each island.\n",
    "\n",
    "To do this we need to know:\n",
    "* the penguin species that are present on each island\n",
    "* a count of the penguins by species for each island.\n",
    "  \n",
    "This can be done in one step using the groupby function."
   ]
  },
  {
   "cell_type": "code",
   "execution_count": 51,
   "metadata": {},
   "outputs": [
    {
     "data": {
      "text/plain": [
       "island     species  \n",
       "Biscoe     Gentoo       119\n",
       "           Adelie        44\n",
       "           Chinstrap      0\n",
       "Dream      Chinstrap     68\n",
       "           Adelie        55\n",
       "           Gentoo         0\n",
       "Torgersen  Adelie        47\n",
       "           Chinstrap      0\n",
       "           Gentoo         0\n",
       "Name: count, dtype: int64"
      ]
     },
     "execution_count": 51,
     "metadata": {},
     "output_type": "execute_result"
    }
   ],
   "source": [
    "# A count of the different penguin species on each island.\n",
    "penguin_island = df.groupby('island')['species'].value_counts()\n",
    "penguin_island"
   ]
  },
  {
   "cell_type": "markdown",
   "metadata": {},
   "source": [
    "After much trial and error, a [Countplot in Seaborn](https://seaborn.pydata.org/generated/seaborn.countplot.html) appears to be the simplest method of plotting the required bar chart. Seaborn has two functions to generate bar plots, countplot and barplot. A countplot is used for categorical data (like species) while a barplot is used for numeric data.  WHAT MADE THE SEABORN PLOT EASIER TO USE??\n",
    "\n",
    " https://www.geeksforgeeks.org/countplot-using-seaborn-in-python/?ref=ml_lbp"
   ]
  },
  {
   "cell_type": "code",
   "execution_count": 46,
   "metadata": {},
   "outputs": [
    {
     "data": {
      "image/png": "[encoded data removed]",
      "text/plain": [
       "<Figure size 640x480 with 1 Axes>"
      ]
     },
     "metadata": {},
     "output_type": "display_data"
    }
   ],
   "source": [
    "# A breakdown of the penguin population on each island by species.\n",
    "sns.countplot(df, x = 'island',\n",
    "            hue = 'species',\n",
    "            edgecolor = 'black'\n",
    "            )\n",
    "plt.title('Penguin count by species on each island.')\n",
    "plt.show()"
   ]
  },
  {
   "cell_type": "markdown",
   "metadata": {},
   "source": [
    "__Summary of the penguin population on each island.__\n",
    "\n",
    "Biscoe is the most populous island with 163 penguins. Torgersen is the least populous island with only 51 penguins of the penguins studied. \n",
    "\n",
    "Both Biscoe and Dream have two penguin species present, with only one penguin species present on Torgersen. Adélie penguins were found on all three islands, with Chinstrap and Gentoo found on Dream and Torgersen respectively."
   ]
  },
  {
   "cell_type": "markdown",
   "metadata": {},
   "source": [
    "### Histogram of an appropriate variable\n",
    "***\n",
    "\n",
    "Task: Make a histogram of an appropriate variable. \n",
    "\n",
    "Chosen variable is flipper length. COMMENT ON HISTOGRAMS."
   ]
  },
  {
   "cell_type": "code",
   "execution_count": null,
   "metadata": {},
   "outputs": [],
   "source": [
    "# Plot of the distribution of flipper length (mm)\n",
    "plt.hist(np.array(df[\"flipper_length_mm\"]))\n",
    "plt.xlabel(\"Flipper length (mm)\")\n",
    "plt.ylabel(\"Frequency\")\n",
    "plt.title(\"Distributions of Penguin Flipper Length\")\n",
    "plt.show()"
   ]
  },
  {
   "cell_type": "markdown",
   "metadata": {},
   "source": [
    "The histogram would be expected to have a normal curve distribution but as we can see it doesn't and has a very unusual shape. Further analysis is required to explain the shape of the histogram.\n",
    "\n",
    "__Normal Distribution__ADD reference  \n",
    "\n",
    "* MORE INFORMATION ON NORMAL DISTRIBUTION\n",
    "\n",
    "![Normal Distribution](https://upload.wikimedia.org/wikipedia/commons/thumb/4/44/Standard_Normal_Distribution.png/320px-Standard_Normal_Distribution.png)\n",
    "\n",
    "\n",
    "\n",
    "\n",
    "\n",
    "As there are three penguin species, I will now analyse the flipper length for each species to see if that explains the unusual shape of the histogram."
   ]
  },
  {
   "cell_type": "code",
   "execution_count": null,
   "metadata": {},
   "outputs": [],
   "source": [
    "# Investigating the mean, standard deviation and median of the flipper length for the different penguin species.\n",
    "df.groupby(\"species\")[\"flipper_length_mm\"].agg([np.mean, np.std, np.median, min, max])"
   ]
  },
  {
   "cell_type": "code",
   "execution_count": null,
   "metadata": {},
   "outputs": [],
   "source": [
    "# Same as above but using pivot_table # Investigating the mean, standard deviation and median of the penguin species\n",
    "df.pivot_table(values = \"flipper_length_mm\", index = \"species\", aggfunc=[np.mean, np.std, np.median])"
   ]
  },
  {
   "cell_type": "markdown",
   "metadata": {},
   "source": [
    "The above table demonstrates that each of the penguin species have noticeably different flipper lengths. The Gentoo penguins have the largest flippers with the average flipper length of 217mm and a median value of 216mm. The Adelie penguins have the smallest flipper length of 189mm with a median of 190mm.\n",
    "\n",
    "The bars on the right of the above histogram from approximately 208mm is the distribution of flipper lengths for the Gentoo penguin. The bars on the left are for the overlapping values of the Adelie and Chinstrap penguins.\n",
    "\n",
    "An improved histogram is required to show the distribution of flipper lengths for the penguin species. "
   ]
  },
  {
   "cell_type": "markdown",
   "metadata": {},
   "source": [
    "WHY DID I CHOoSE THIS PARTICULAR PLOT TYPE?"
   ]
  },
  {
   "cell_type": "code",
   "execution_count": null,
   "metadata": {},
   "outputs": [],
   "source": [
    "# Histogram of the variations in flipper length by species.\n",
    "# This is my histogram for the task.\n",
    "\n",
    "fig, ax = plt.subplots()\n",
    "ax.hist(adelie['flipper_length_mm'], label = \"Adelie\", edgecolor = \"black\", alpha = 0.5)\n",
    "ax.hist(chinstrap['flipper_length_mm'], label = \"Chinstrap\", edgecolor = \"black\", alpha = 0.5)\n",
    "ax.hist(gentoo['flipper_length_mm'], label = \"Gentoo\", edgecolor = \"black\", alpha = 0.5)\n",
    "ax.set_title(\"Variations in flipper length by species\")\n",
    "ax.set_xlabel(\"Flipper length (mm)\")\n",
    "ax.set_ylabel(\"No of observations\")\n",
    "ax.legend()\n",
    "plt.show()"
   ]
  },
  {
   "cell_type": "markdown",
   "metadata": {},
   "source": [
    "This histogram clearly demonstrates that each species has a distinct flipper size. A larger data set would give a plot be similiar to a standard distribution curve..REPHRASE \n",
    "\n",
    "COMMENT REFERING TO RESEARCH. Value of the histograms. \n",
    "\n",
    "It would be possible from flipper length to identify a penguin as a Gentoo penguin. It would be more difficult to classify the Adelie and the Chinstrap penguins by their flipper lengths alone as the values overlap."
   ]
  },
  {
   "cell_type": "markdown",
   "metadata": {},
   "source": [
    "## Project\n",
    "***\n",
    "\n",
    "Select two variables for the data set and provide an analysis of how correlated they are."
   ]
  },
  {
   "cell_type": "markdown",
   "metadata": {},
   "source": [
    "### Scatter plot\n",
    "\n",
    "SCATTER plot comments\n",
    "My chosen variables are flipper length and body mass."
   ]
  },
  {
   "cell_type": "code",
   "execution_count": null,
   "metadata": {},
   "outputs": [],
   "source": [
    "# Simple scatter plot to get started of body mass (g) vs flipper length (mm)\n",
    "plt.scatter(penguins['flipper_length_mm'], penguins['body_mass_g'])\n",
    "\n",
    "# Adding title, x and y labels to the plot.\n",
    "plt.title('Body mass vs Flipper length')\n",
    "plt.xlabel('Flipper length (mm)')\n",
    "plt.ylabel('Body mass (g)')\n",
    "\n",
    "# Display the plot\n",
    "plt.show()"
   ]
  },
  {
   "cell_type": "markdown",
   "metadata": {},
   "source": [
    "__Scatter plot by species__"
   ]
  },
  {
   "cell_type": "code",
   "execution_count": null,
   "metadata": {},
   "outputs": [],
   "source": [
    "# Scatter plot of body mass (g) vs flipper length (mm) by species.\n",
    "fig, ax = plt.subplots()\n",
    "\n",
    "ax.scatter(adelie['flipper_length_mm'], adelie['body_mass_g'], label = 'adelie')\n",
    "ax.scatter(chinstrap['flipper_length_mm'], chinstrap['body_mass_g'], label = 'chinstrap')\n",
    "ax.scatter(gentoo['flipper_length_mm'], gentoo['body_mass_g'], label = 'gentoo')\n",
    "ax.set_xlabel('Flipper length (mm)')\n",
    "ax.set_ylabel('Body masss (g)')\n",
    "ax.set_title('Body mass vs Flipper length')\n",
    "ax.legend()\n",
    "plt.show()"
   ]
  },
  {
   "cell_type": "markdown",
   "metadata": {},
   "source": [
    "__Scatter plot of body mass vs flipper length by species and sex.__"
   ]
  },
  {
   "cell_type": "code",
   "execution_count": null,
   "metadata": {},
   "outputs": [],
   "source": [
    "#import warnings\n",
    "#warnings.filterwarnings('ignore')\n",
    "\n",
    "g = sns.relplot(x = 'flipper_length_mm', y = 'body_mass_g', col = 'species', hue = 'sex', data = penguins)\n",
    "g.fig.suptitle('Comparison of Body mass vs Flipper Length by Species and Sex', y = 1.05)\n",
    "g.set(xlabel = 'Flipper length (mm)', ylabel = 'Body mass (g)')\n",
    "plt.show()"
   ]
  },
  {
   "cell_type": "markdown",
   "metadata": {},
   "source": []
  },
  {
   "cell_type": "markdown",
   "metadata": {},
   "source": [
    "### Correlation between body mass and flipper length.\n",
    "***\n",
    "\n",
    "The corr() method gives us the correlation coefficient, r, which is a measure of how two numeric variables are linearly related, in other words it measures the strength of the relationship. The values of r are always in the range of -1 to +1. The sign indicates the direction of the relationship, with -1 indicating a strong negative correlation (as x increases, y decreases), 0 indicates no correlation and +1 is a strong positive correlation (as x increases, y increases). \n",
    "\n",
    "It is important to always plot the data to visually check that the data has a linear relationship. A scatterplot can indicate if there is a linear relationship, however [seaborn's lmplot](https://seaborn.pydata.org/generated/seaborn.lmplot.html), which plots a scatterplot with an overlaid trendline, is very useful to check for a linear relationship."
   ]
  },
  {
   "cell_type": "code",
   "execution_count": null,
   "metadata": {},
   "outputs": [],
   "source": [
    "# Using seaborn lmplot to check that there is a linear relationship\n",
    "sns.lmplot(x = 'flipper_length_mm', y = 'body_mass_g', data = penguins, ci = None)\n",
    "\n",
    "# Adding title, x and y labels to the plot.\n",
    "plt.title('Body mass vs Flipper length')\n",
    "plt.xlabel('Flipper length (mm)')\n",
    "plt.ylabel('Body mass (g)')\n",
    "\n",
    "# Display the plot\n",
    "plt.show()"
   ]
  },
  {
   "cell_type": "markdown",
   "metadata": {},
   "source": [
    "As the relationship between body mass and flipper length has a linear relationship, the correlation coefficient can now be calculated. "
   ]
  },
  {
   "cell_type": "code",
   "execution_count": null,
   "metadata": {},
   "outputs": [],
   "source": [
    "# Correlation between body mass and flipper length.\n",
    "penguins_corr_fl_bm = penguins['body_mass_g'].corr(penguins['flipper_length_mm'])\n",
    "\n",
    "print(f'The correlation coefficient between flipper length and body mass for the Adélie penguins is: {penguins_corr_fl_bm.round(3)}.')"
   ]
  },
  {
   "cell_type": "markdown",
   "metadata": {},
   "source": [
    "__Calculating the correlation between body mass and flipper length by species.__"
   ]
  },
  {
   "cell_type": "code",
   "execution_count": null,
   "metadata": {},
   "outputs": [],
   "source": [
    "# Correlation between body mass and flipper length for Adélie penguins.\n",
    "adelie_corr_fl_bm = adelie['body_mass_g'].corr(adelie['flipper_length_mm'])\n",
    "\n",
    "print(f'The correlation coefficient between flipper length and body mass for the Adélie penguins is: {adelie_corr_fl_bm.round(3)}.')"
   ]
  },
  {
   "cell_type": "code",
   "execution_count": null,
   "metadata": {},
   "outputs": [],
   "source": [
    "# Correlation between flipper length and body mass for Chinstrap penguins.\n",
    "chinstrap_corr_fl_bm = chinstrap['body_mass_g'].corr(chinstrap['flipper_length_mm'])\n",
    "\n",
    "print(f'The correlation coefficient between flipper length and body mass for the Chinstrap penguins is: {chinstrap_corr_fl_bm.round(3)}.')"
   ]
  },
  {
   "cell_type": "code",
   "execution_count": null,
   "metadata": {},
   "outputs": [],
   "source": [
    "# Correlation between flipper length and body mass for Gentoo penguins.\n",
    "gentoo_corr_fl_bm = gentoo['body_mass_g'].corr(gentoo['flipper_length_mm'])\n",
    "\n",
    "print(f'The correlation coefficient between flipper length and body mass for the Gentoo penguins is: {gentoo_corr_fl_bm.round(3)}.')"
   ]
  },
  {
   "cell_type": "markdown",
   "metadata": {},
   "source": [
    "ADD nice seaborn plot with trend line for the three different species. \n",
    "\n",
    "What is the value of the trend line?\n",
    "\n"
   ]
  },
  {
   "cell_type": "markdown",
   "metadata": {},
   "source": [
    "__Correlation between flipper length and body mass__\n",
    "\n",
    "When the overall correlation between flipper length and body mass was calculated it appeared that there is a strong positive correlation with a correlation coefficient value of 0.87.\n",
    "\n",
    "However, for the individual species the correlation coefficient between flipper length and body mass is lower. Adélie penguins display a moderate correlation with a value of 0.47 and the Gentoo penguins have a stronger correlation coefficient of 0.70. For Chinstrap penguins the value of the correlation coefficient was 0.64."
   ]
  },
  {
   "cell_type": "markdown",
   "metadata": {},
   "source": [
    "Out of curiosity I decided to see if there is a strong correlation between any of the variables for the different penguin species."
   ]
  },
  {
   "cell_type": "code",
   "execution_count": null,
   "metadata": {},
   "outputs": [],
   "source": [
    "# Calculating the correlation between all the variables in the Adélie penguin. \n",
    "adelie_corr = adelie.drop(['island', 'sex'], axis = 1).corr().round(3)\n",
    "adelie_corr"
   ]
  },
  {
   "cell_type": "markdown",
   "metadata": {},
   "source": [
    "Overall for the Adelie penguin there is a weak to moderate correlation between the different variables. The strongest correlation in the table is between bill depth and body mass at 0.58, with bill length and body mass closely behind it at 0.55. \n",
    "\n",
    "While we can read the above table, it is not very visual and it has to be carefully analysed. [Seaborn heatmaps](https://www.datacamp.com/tutorial/seaborn-heatmaps) are a very useful tool to visualise numerical data. The data is organised in a grid by colour, with the colour indicating order of magnitude. It is much easier to identify relationships between the variables of interest. \n",
    "\n",
    "As heatmaps require numerical data, the columns for island and sex were dropped for all the species dataframes. To make comparsions between the species easier to identify, the scale of the heatmap was adjusted so that the same colour corresponded to the same order of magnitude in each map. "
   ]
  },
  {
   "cell_type": "code",
   "execution_count": null,
   "metadata": {},
   "outputs": [],
   "source": [
    "# Heatmap for correlation between all the variables for Adélie penguin.\n",
    "sns.heatmap(adelie.drop(['island', 'sex'], axis = 1).corr(), annot = True, linewidths = 0.2, vmin = 0.2, vmax = 1)\n",
    "plt.title('Heatmap for Adelie Penguins', y= 1.02)\n",
    "plt.show()"
   ]
  },
  {
   "cell_type": "code",
   "execution_count": null,
   "metadata": {},
   "outputs": [],
   "source": [
    "# Heatmap for correlation between all the variables for Chinstrap penguin.\n",
    "sns.heatmap(chinstrap.drop(['island','sex'], axis = 1).corr(), annot = True, linewidths = 0.2, vmin = 0.2, vmax = 1)\n",
    "plt.title('Heatmap for Chinstrap Penguins', y= 1.02)\n",
    "plt.show()"
   ]
  },
  {
   "cell_type": "code",
   "execution_count": null,
   "metadata": {},
   "outputs": [],
   "source": [
    "# Heatmap for correlation between all the variables for Gentoo penguin.\n",
    "sns.heatmap(gentoo.drop(['island','sex'], axis = 1).corr(), annot = True, linewidths = 0.2, vmin = 0.2, vmax = 1)\n",
    "plt.title('Heatmap for Gentoo Penguins', y= 1.02)\n",
    "plt.show()"
   ]
  },
  {
   "cell_type": "markdown",
   "metadata": {},
   "source": [
    "While a straight comparison appears to be a good correlation but when it is check by species. Poor correlation between body mass and flipper length for adelie penguins. Gentoo has a moderat( check correct term) correlation. "
   ]
  },
  {
   "cell_type": "markdown",
   "metadata": {},
   "source": [
    "Study of male vs female within the three different species. How would i plot it?\n",
    "\n",
    "scatter plot by species male vs female\n",
    "plot for each of 4 variables. \n",
    "\n",
    "\n",
    "[Predicting the sex of penguins using machine learning](https://www.youtube.com/watch?v=euGEsJj-oI4)"
   ]
  },
  {
   "cell_type": "code",
   "execution_count": null,
   "metadata": {},
   "outputs": [],
   "source": [
    "male_adelie = adelie[(adelie['sex'] ==  'Male')]\n",
    "female_adelie = adelie[(adelie['sex'] ==  'Female')]\n",
    "\n",
    "male_chinstrap = chinstrap[(chinstrap['sex']) == 'Male']\n",
    "female_chinstrap = chinstrap[(chinstrap['sex']) == 'Female']"
   ]
  },
  {
   "cell_type": "code",
   "execution_count": null,
   "metadata": {},
   "outputs": [],
   "source": [
    "fig, ax = plt.subplots()\n",
    "\n",
    "ax.scatter(male_adelie['flipper_length_mm'], male_adelie['body_mass_g'], label = 'Male') \n",
    "ax.scatter(female_adelie['flipper_length_mm'], female_adelie['body_mass_g'], label = 'Female')\n",
    "ax.set_ylabel('Body mass (g)')\n",
    "ax.set_title('Body Mass vs Flipper Length by Sex for Adelié Penguins')\n",
    "ax.legend()\n",
    "plt.show()\n"
   ]
  },
  {
   "cell_type": "code",
   "execution_count": null,
   "metadata": {},
   "outputs": [],
   "source": [
    "male_adelie['body_mass_g'].corr(male_adelie['flipper_length_mm'])"
   ]
  },
  {
   "cell_type": "code",
   "execution_count": null,
   "metadata": {},
   "outputs": [],
   "source": [
    "female_adelie['body_mass_g'].corr(female_adelie['flipper_length_mm'])"
   ]
  },
  {
   "cell_type": "markdown",
   "metadata": {},
   "source": [
    "Any differences between the Adelie penguins on the three different islands?"
   ]
  },
  {
   "cell_type": "markdown",
   "metadata": {},
   "source": [
    "* Adelie penguins live on all three islands, are there any differences in flipper, bills, body mass? "
   ]
  },
  {
   "cell_type": "code",
   "execution_count": null,
   "metadata": {},
   "outputs": [],
   "source": [
    "adelie.isnull().sum()\n"
   ]
  },
  {
   "cell_type": "code",
   "execution_count": null,
   "metadata": {},
   "outputs": [],
   "source": [
    "adelie['body_mass_g'].corr(adelie['flipper_length_mm'])"
   ]
  },
  {
   "cell_type": "code",
   "execution_count": null,
   "metadata": {},
   "outputs": [],
   "source": [
    "adelie.groupby('island')['body_mass_g'].mean()"
   ]
  },
  {
   "cell_type": "code",
   "execution_count": null,
   "metadata": {},
   "outputs": [],
   "source": [
    "adelie.groupby('island')['body_mass_g'].mean().std()"
   ]
  },
  {
   "cell_type": "markdown",
   "metadata": {},
   "source": [
    "** Investigating the Penguin Species."
   ]
  },
  {
   "cell_type": "code",
   "execution_count": null,
   "metadata": {},
   "outputs": [],
   "source": [
    "regression plot\n",
    "\n",
    "sns.regplot(x = 'flipper_length_mm', y = 'body_mass_g', data = penguins, ci = None)"
   ]
  },
  {
   "cell_type": "code",
   "execution_count": null,
   "metadata": {},
   "outputs": [],
   "source": [
    "df.groupby('species').count()"
   ]
  },
  {
   "cell_type": "markdown",
   "metadata": {},
   "source": [
    "* Some information on the sex of the penguin is missing for some penguins. Could I predict whether they are male or female based on the other traits. \n",
    "\n",
    "Gentoo penguins, missing sex data. Can I tell if guess(?, need better word, if they are male or female.)\n",
    "\n",
    "1st get the missing rows.\n",
    "\n",
    "https://journals.plos.org/plosone/article?id=10.1371/journal.pone.0090081#s4\n",
    "Estimates of penguin SSD have generally relied on one or only a few morphological features. Williams [67] used bill length and depth to assess structural size differences between male and female gentoo penguins. Fairbairn and Shine [51] relied on published estimates of body mass for 17 species of Spheniscidae in their meta-analysis of seabird SSD, while Polito et al. [66] considered measurements of bill features only for developing SSD indices for Pygoscelis penguins. The evolution of SSD is primarily considered a result of sexual and/or fecundity selection [6], therefore, it is highly likely that several traits are under selection that result in overall body size differences between the sexes. To this end, we considered a suite of morphological features in our analyses similar to Bertellotti et al. [61], to more broadly assess SSD in Pygoscelis penguins. We recognize that body mass is a plastic trait that can vary over the annual cycle, therefore, our body mass results are truly only relevant for individuals during the egg laying period and should not be considered representative of individuals during other seasonal phases such as chick rearing or outside the breeding season.\n",
    "\n",
    "Our results demonstrate inter-specific differences in best morphological predictors of sex among Pygoscelis penguins. Adélie penguin body mass and culmen length were the strongest predictors of sex, while body mass and culmen depth were best predictors of male and female gentoo penguins. For chinstrap penguins, body mass was the least predictive structural feature, while culmen length and depth were similarly strong predictors of sex. Species-specific models based on these best morphological predictors correctly classified a high percentage of individuals from independent datasets (i.e., 89–94%). Interestingly, flipper length was not a strong predictor of sex for any of the three species. Culmen features and body mass are structures important during penguin courtship [52], and therefore, likely targets of sexual selection, which may be why these parameters are strong predictors of sex across Pygoscelis species. Similar results were found by Bertellotti et al. [61] who included bill depth and length, but not flipper length, of Magellanic penguins (Spheniscus magellanicus) in a discriminant function that correctly classified 97% of adults.\n",
    "\n",
    "Variation in our calculated size dimorphism indices generally reflected differences in best morphological predictors of adult penguin sex discussed above, which would be expected. Size dimorphism indices for Adélie penguin body mass and culmen length were the largest of those calculated for the species. Similarly, SDIs for gentoo penguin body mass and culmen depth were the largest calculated. Culmen length and depth of chinstrap penguins were equally strong predictors of sex, but associated SDIs were similar to the index for body mass, which was the least predictive structural feature for male and female chinstrap penguins. The overall average SDI, based on all four parameters, indicated that Adélie and gentoo penguins hold the same levels of SSD, while chinstrap penguins are slightly less dimorphic. However, when excluding body mass from these calculations by considering only culmen and flipper features, the overall average SDI suggested that chinstrap penguins were most sexually dimorphic, followed by gentoo penguins, with Adélie penguins being the least dimorphic of all three species. Body mass variation is closely coupled with the seasonal energetic requirements of migration, reproduction, and molt, therefore, the overall average SDI calculated that excludes body mass is a more robust estimate of SSD that is relevant throughout the annual cycle. Within this context, although based on a different SDI, our results corroborate those by Polito et al. [66] suggesting that chinstrap penguins are the most sexually size dimorphic Pygoscelis species based on bill features only.\n"
   ]
  },
  {
   "cell_type": "code",
   "execution_count": null,
   "metadata": {},
   "outputs": [],
   "source": [
    "gentoo[gentoo.isnull().any(axis = 1)]"
   ]
  },
  {
   "cell_type": "code",
   "execution_count": null,
   "metadata": {},
   "outputs": [],
   "source": [
    "sns.pairplot(gentoo, hue = 'sex')"
   ]
  },
  {
   "cell_type": "code",
   "execution_count": null,
   "metadata": {},
   "outputs": [],
   "source": [
    "df.groupby('island')['body_mass_g'].mean()\n"
   ]
  },
  {
   "cell_type": "code",
   "execution_count": null,
   "metadata": {},
   "outputs": [],
   "source": [
    "df.groupby('species')['body_mass_g'].mean()"
   ]
  },
  {
   "cell_type": "code",
   "execution_count": null,
   "metadata": {},
   "outputs": [],
   "source": [
    "# Number and sex of penguins\n",
    "df[\"sex\"].value_counts()"
   ]
  },
  {
   "cell_type": "markdown",
   "metadata": {},
   "source": [
    "[Get started with tidymodels and classification of penguin data](https://www.youtube.com/watch?v=z57i2GVcdww)\n",
    "\n",
    "Random references that I don't know where to put yet!\n",
    "\n",
    "Getting started with streamlit for data science: Create and deplot Streamlit web applicatsin from scratch in python\n",
    "https://books.google.ie/books?hl=en&lr=&id=9804EAAAQBAJ&oi=fnd&pg=PP1&dq=penguins+dataset+palmer&ots=qngv9JPI9O&sig=77XKyU2mgdUO3LI8jw4cRn5ZKL0&redir_esc=y#v=onepage&q=penguins%20dataset%20palmer&f=false\n",
    "\n",
    "\n",
    "https://towardsdatascience.com/penguins-dataset-overview-iris-alternative-9453bb8c8d95 exploratory data analysis\n",
    "\n",
    "https://github.com/mcnakhaee/palmerpenguins\n",
    "\n",
    "[EDA and K-means model with python](https://www.kaggle.com/code/theerachodsepdham/eda-k-means-model-with-python?scriptVersionId=169589012)  build a machine learning model for predicting penguin species. \n",
    "\n",
    "https://deepnote.com/app/mazzaroli/Exploratory-Data-Analysis-to-Predictive-analysis-Palmer-Penguins-e6bd8932-9ca1-4363-b78a-79f4f4dc818f Exploratory Data analysis to predictive analysis"
   ]
  },
  {
   "cell_type": "markdown",
   "metadata": {},
   "source": [
    "## Brainstorm\n",
    "\n",
    "WHat two variables could I compare?\n",
    "\n",
    "* Do heavier penguins have longer flippers or bill length?\n",
    "* Bigger bills, bigger body mass? Bigger bills can eat more? \n",
    "* \n"
   ]
  },
  {
   "cell_type": "code",
   "execution_count": null,
   "metadata": {},
   "outputs": [],
   "source": [
    "df.groupby(\"species\").agg({\"flipper_length_mm\": 'mean', 'bill_length_mm' : 'mean', 'bill_depth_mm' : 'mean', 'body_mass_g' : 'mean'})"
   ]
  },
  {
   "cell_type": "code",
   "execution_count": null,
   "metadata": {},
   "outputs": [],
   "source": [
    "# Are male penguins heavier than female penguins?\n",
    "\n",
    "df.groupby('sex')['body_mass_g'].mean()"
   ]
  },
  {
   "cell_type": "markdown",
   "metadata": {},
   "source": [
    "https://www.neuraldesigner.com/learning/examples/palmer-penguins/"
   ]
  },
  {
   "cell_type": "markdown",
   "metadata": {},
   "source": [
    "### Additional References\n",
    "\n",
    "[Ecological Sexual Dimorphism and Environmental Variability within a Community of Antarctic Penguins (Genus Pygoscelis)](https://journals.plos.org/plosone/article?id=10.1371/journal.pone.0090081)\n",
    "\n",
    "__Images in markdown__\n",
    "\n",
    "To insert images in markdown the following is used: \n",
    "```\n",
    "![Text](link to image)\n",
    "```\n",
    "\n",
    " However, it is difficult to resize images in markdown as it has no sizing parameters so inserting the image using html can sometimes be preferable. [w3schools](https://www.w3schools.com/html/html_images.asp) has a straight forward lesson on how to insert images using html. \n",
    "\n",
    "```html\n",
    "<img src=\"image.png\" alt=\"image\" style = \"width:600px; height=auto\">\n",
    "```\n",
    "\n",
    "\n",
    "[Common pitfalls in statistical analysis: The use of correlation techniques](nlm.nih.gov/pmc/articles/PMC5079093/).\n",
    "\n",
    "[How to calculate correlation between two columns in Pandas](]https://www.geeksforgeeks.org/how-to-calculate-correlation-between-two-columns-in-pandas/)\n",
    "\n",
    "__Plotting images__\n",
    "\n",
    "Datacamp [Introduction to Data Visualization with Matplotlib](https://app.datacamp.com/learn/courses/introduction-to-data-visualization-with-matplotlib)\n",
    "\n",
    "Datacamp [Data Manipulation with Pandas](https://app.datacamp.com/learn/courses/data-manipulation-with-pandas)\n",
    "\n",
    "Datacamp [Introduction to Data Visualization with Seaborn](https://app.datacamp.com/learn/courses/introduction-to-data-visualization-with-seaborn)\n"
   ]
  },
  {
   "cell_type": "markdown",
   "metadata": {},
   "source": [
    "## End\n",
    "\n",
    "***"
   ]
  }
 ],
 "metadata": {
  "kernelspec": {
   "display_name": "Python 3 (ipykernel)",
   "language": "python",
   "name": "python3"
  },
  "language_info": {
   "codemirror_mode": {
    "name": "ipython",
    "version": 3
   },
   "file_extension": ".py",
   "mimetype": "text/x-python",
   "name": "python",
   "nbconvert_exporter": "python",
   "pygments_lexer": "ipython3",
   "version": "3.11.5"
  }
 },
 "nbformat": 4,
 "nbformat_minor": 2
}
